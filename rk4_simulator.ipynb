{
 "cells": [
  {
   "cell_type": "code",
   "execution_count": 71,
   "id": "8f6fe6df",
   "metadata": {},
   "outputs": [],
   "source": [
    "import sys\n",
    "import time\n",
    "\n",
    "import numpy as np\n",
    "import matplotlib.pyplot as plt\n",
    "import astropy.units as u\n",
    "import astropy.constants as c\n",
    "from typing import List # typing makes python recognize documentation\n",
    "\n",
    "class Body:\n",
    "    def __init__(self, name, mass, x_vec, v_vec, has_units = True):\n",
    "        self.name = name\n",
    "        self.has_units = has_units\n",
    "        if self.has_units:\n",
    "            self.mass = mass.cgs\n",
    "            self.x_vec = x_vec.cgs.value\n",
    "            self.v_vec = v_vec.cgs.value\n",
    "        else:\n",
    "            self.mass = mass\n",
    "            self.x_vec = x_vec\n",
    "            self.v_vec = v_vec\n",
    "\n",
    "    def return_y_vec(self): # if something is a method, you always need to use self\n",
    "        return np.concatenate((self.x_vec, self.v_vec))\n",
    "\n",
    "    def return_mass(self):\n",
    "        if self.has_units:\n",
    "            return self.mass.cgs.value\n",
    "        else:\n",
    "            return self.mass\n",
    "\n",
    "    def return_name(self):\n",
    "        return self.name\n",
    "\n",
    "\n",
    "class Simulation:\n",
    "    def __init__(self, bodies: List[Body], has_units=True):\n",
    "        self.has_units = has_units\n",
    "        self.bodies = bodies\n",
    "        self.n_bodies = len(self.bodies)\n",
    "        self.dim = 6.0\n",
    "        self.quant_vec = np.concatenate(np.array([i.return_y_vec() for i in self.bodies])) # list comprehension\n",
    "        self.mass_vec = np.array([i.return_mass() for i in self.bodies])\n",
    "        self.name_vec = [i.return_name() for i in self.bodies]\n",
    "\n",
    "        self.diff_eq_kwargs = None\n",
    "        self.calc_diff_eqs = None\n",
    "\n",
    "        self.history = np.array([])\n",
    "\n",
    "\n",
    "    # 1st Method - Setter Method: Set differential equations\n",
    "    def set_diff_eqs(self, calc_diff_eqs, **kwargs):\n",
    "        self.diff_eq_kwargs = kwargs\n",
    "        self.calc_diff_eqs = calc_diff_eqs\n",
    "\n",
    "    # 2nd Method - RK4 (Range-Kutta Method): Estimating the curve of an equation\n",
    "    def rk4(self, t, dt): # t is time, dt is change in time\n",
    "        k1 = dt*self.calc_diff_eqs(t, self.quant_vec, self.mass_vec, **self.diff_eq_kwargs)\n",
    "        k2 = dt*self.calc_diff_eqs(t+0.5*dt, self.quant_vec+0.5*k1, self.mass_vec, **self.diff_eq_kwargs)\n",
    "        k3 = dt*self.calc_diff_eqs(t+0.5*dt, self.quant_vec+0.5*k2, self.mass_vec, **self.diff_eq_kwargs)\n",
    "        k4 = dt*self.calc_diff_eqs(t+dt, self.quant_vec+k3, self.mass_vec, **self.diff_eq_kwargs)\n",
    "        y_new = self.quant_vec+((k1+(2*k2)+(2*k3)+k4)/6.0)\n",
    "        return y_new\n",
    "\n",
    "    # 3rd Method - Run: Runs the simulation\n",
    "    def run(self, T, dt, t0=0):\n",
    "        if not hasattr(self, 'calc_diff_eqs'):\n",
    "            raise AttributeError('You must set a diff eq solver first.')\n",
    "        if self.has_units:\n",
    "            try:\n",
    "                _ =  t0.unit\n",
    "            except:\n",
    "                t0=(t0*T.unit).cgs.value\n",
    "            T = T.cgs.value\n",
    "            dt = dt.cgs.value\n",
    "\n",
    "            self.history = [self.quant_vec]\n",
    "            clock_time = t0\n",
    "            nsteps = int((T-t0)/dt)\n",
    "            start_time = time.time()\n",
    "            for step in range(nsteps):\n",
    "                sys.stdout.flush()\n",
    "                sys.stdout.write('Integrating: step = {} /  {} | simulation time = {}'. format(step, nsteps, round(clock_time,3)) + '\\r')\n",
    "                y_new = self.rk4(0,dt)\n",
    "                self.history.append(y_new)\n",
    "                self.quant_vec = y_new\n",
    "                clock_time += dt\n",
    "            runtime = time.time() - start_time\n",
    "            print('\\n')\n",
    "            print('Simulation completed in in {} seconds'.format(runtime))\n",
    "            self.history = np.array(self.history)\n",
    "\n",
    "    # 4th function - Acceleration Calculator: Calculates the acceleration between the different bodies\n",
    "    # in the simulation at each interval of time\n",
    "def nbody_solve(t, y, masses):\n",
    "    N_bodies = int(len(y) / 6)\n",
    "    solved_vector = np.zeros(y.size)\n",
    "    for i in range(N_bodies): # i is the number of the body we are checking (e.g. for Earth, i = 0)\n",
    "        ioffset = i*6\n",
    "        for j in range(N_bodies): # comparing 2 bodies so need second value\n",
    "            joffset = j*6\n",
    "            solved_vector[ioffset+0] = y[ioffset+3]\n",
    "            solved_vector[ioffset+1] = y[ioffset+4]\n",
    "            solved_vector[ioffset+2] = y[ioffset+5]\n",
    "            if i != j: # if i=j it means we are checking the same body\n",
    "                dx = y[ioffset] - y[joffset]\n",
    "                dy = y[ioffset+1] - y[joffset+1]\n",
    "                dz = y[ioffset+2] - y[joffset+2]\n",
    "                r = (dx**2+dy**2+dz**2)**0.5 # radial distance between the bodies\n",
    "                ax = ((-c.G.cgs * masses[j] / r**3) * dx).value\n",
    "                ay = ((-c.G.cgs * masses[j] / r**3) * dy).value\n",
    "                az = ((-c.G.cgs * masses[j] / r**3) * dz).value\n",
    "                solved_vector[ioffset+3] += ax\n",
    "                solved_vector[ioffset+4] += ay\n",
    "                solved_vector[ioffset+5] += az\n",
    "    return solved_vector\n"
   ]
  },
  {
   "cell_type": "code",
   "execution_count": 72,
   "id": "c3dee192",
   "metadata": {},
   "outputs": [],
   "source": [
    "M_moon = (7.347e22*u.kg).cgs\n",
    "v_moon = np.array([0,1.022,0])*u.km/u.s\n",
    "moon_momentum = M_moon * v_moon\n",
    "Moon = Body(mass=M_moon,\n",
    "           x_vec = np.array([3.84e5,0,0])*u.km,\n",
    "           v_vec = v_moon,\n",
    "           name='Moon')\n"
   ]
  },
  {
   "cell_type": "code",
   "execution_count": 73,
   "id": "fcb9b401",
   "metadata": {},
   "outputs": [],
   "source": [
    "v_earth = - (moon_momentum / c.M_earth).to(u.km/u.s).value\n",
    "Earth = Body(mass=c.M_earth.cgs,\n",
    "             x_vec=np.array([0,0,0])*u.km,\n",
    "             v_vec=np.array(v_earth)*u.km/u.s,\n",
    "             name='Earth')"
   ]
  },
  {
   "cell_type": "code",
   "execution_count": 74,
   "id": "53cd6e0c",
   "metadata": {},
   "outputs": [],
   "source": [
    "bodies = [Earth,Moon]"
   ]
  },
  {
   "cell_type": "code",
   "execution_count": 75,
   "id": "ad66c796",
   "metadata": {},
   "outputs": [],
   "source": [
    "simulation = Simulation(bodies)\n",
    "simulation.set_diff_eqs(nbody_solve)"
   ]
  },
  {
   "cell_type": "code",
   "execution_count": 76,
   "id": "68a87c4c",
   "metadata": {},
   "outputs": [
    {
     "name": "stdout",
     "output_type": "stream",
     "text": [
      "Integrating: step = 23 /  24 | simulation time = 82800.0\n",
      "\n",
      "Simulation completed in in 0.15650105476379395 seconds\n"
     ]
    }
   ],
   "source": [
    "simulation.run(1*u.day,1*u.hr)"
   ]
  },
  {
   "cell_type": "code",
   "execution_count": 77,
   "id": "dd8fcaad",
   "metadata": {},
   "outputs": [
    {
     "name": "stdout",
     "output_type": "stream",
     "text": [
      "[[ 0.00000000e+00  0.00000000e+00  0.00000000e+00 -0.00000000e+00\n",
      "  -1.25727109e+03 -0.00000000e+00  3.84000000e+10  0.00000000e+00\n",
      "   0.00000000e+00  0.00000000e+00  1.02200000e+05  0.00000000e+00]\n",
      " [ 2.15488844e+04 -4.52610625e+06  0.00000000e+00  1.19715052e+01\n",
      "  -1.25721303e+03  0.00000000e+00  3.83982484e+10  3.67914337e+08\n",
      "   0.00000000e+00 -9.73129693e+02  1.02195281e+05  0.00000000e+00]\n",
      " [ 8.61934365e+04 -9.05179450e+06  0.00000000e+00  2.39418430e+01\n",
      "  -1.25703887e+03  0.00000000e+00  3.83929936e+10  7.35794695e+08\n",
      "   0.00000000e+00 -1.94616450e+03  1.02181123e+05  0.00000000e+00]\n",
      " [ 1.93927353e+05 -1.35766468e+07  0.00000000e+00  3.59098464e+01\n",
      "  -1.25674861e+03  0.00000000e+00  3.83842362e+10  1.10360710e+09\n",
      "   0.00000000e+00 -2.91900954e+03  1.02157529e+05  0.00000000e+00]\n",
      " [ 3.44740129e+05 -1.81002453e+07  0.00000000e+00  4.78743485e+01\n",
      "  -1.25634230e+03  0.00000000e+00  3.83719771e+10  1.47131759e+09\n",
      "   0.00000000e+00 -3.89156997e+03  1.02124502e+05  0.00000000e+00]\n",
      " [ 5.38617060e+05 -2.26221722e+07  0.00000000e+00  5.98341827e+01\n",
      "  -1.25581998e+03  0.00000000e+00  3.83562173e+10  1.83889220e+09\n",
      "   0.00000000e+00 -4.86375097e+03  1.02082043e+05  0.00000000e+00]\n",
      " [ 7.75539244e+05 -2.71420099e+07  0.00000000e+00  7.17881834e+01\n",
      "  -1.25518170e+03  0.00000000e+00  3.83369586e+10  2.20629699e+09\n",
      "   0.00000000e+00 -5.83545777e+03  1.02030159e+05  0.00000000e+00]\n",
      " [ 1.05548358e+06 -3.16593413e+07  0.00000000e+00  8.37351854e+01\n",
      "  -1.25442753e+03  0.00000000e+00  3.83142027e+10  2.57349804e+09\n",
      "   0.00000000e+00 -6.80659567e+03  1.01968855e+05  0.00000000e+00]\n",
      " [ 1.37842278e+06 -3.61737492e+07  0.00000000e+00  9.56740246e+01\n",
      "  -1.25355755e+03  0.00000000e+00  3.82879519e+10  2.94046145e+09\n",
      "   0.00000000e+00 -7.77707004e+03  1.01898137e+05  0.00000000e+00]\n",
      " [ 1.74432537e+06 -4.06848168e+07  0.00000000e+00  1.07603538e+02\n",
      "  -1.25257185e+03  0.00000000e+00  3.82582087e+10  3.30715333e+09\n",
      "   0.00000000e+00 -8.74678632e+03  1.01818013e+05  0.00000000e+00]\n",
      " [ 2.15315567e+06 -4.51921278e+07  0.00000000e+00  1.19522563e+02\n",
      "  -1.25147056e+03  0.00000000e+00  3.82249761e+10  3.67353986e+09\n",
      "   0.00000000e+00 -9.71565007e+03  1.01728491e+05  0.00000000e+00]\n",
      " [ 2.60487384e+06 -4.96952662e+07  0.00000000e+00  1.31429940e+02\n",
      "  -1.25025377e+03  0.00000000e+00  3.81882572e+10  4.03958720e+09\n",
      "   0.00000000e+00 -1.06835669e+04  1.01629582e+05  0.00000000e+00]\n",
      " [ 3.09943587e+06 -5.41938165e+07  0.00000000e+00  1.43324509e+02\n",
      "  -1.24892162e+03  0.00000000e+00  3.81480557e+10  4.40526160e+09\n",
      "   0.00000000e+00 -1.16504427e+04  1.01521295e+05  0.00000000e+00]\n",
      " [ 3.63679355e+06 -5.86873636e+07  0.00000000e+00  1.55205113e+02\n",
      "  -1.24747426e+03  0.00000000e+00  3.81043754e+10  4.77052929e+09\n",
      "   0.00000000e+00 -1.26161833e+04  1.01403644e+05  0.00000000e+00]\n",
      " [ 4.21689453e+06 -6.31754931e+07  0.00000000e+00  1.67070596e+02\n",
      "  -1.24591184e+03  0.00000000e+00  3.80572206e+10  5.13535661e+09\n",
      "   0.00000000e+00 -1.35806948e+04  1.01276639e+05  0.00000000e+00]\n",
      " [ 4.83968231e+06 -6.76577910e+07  0.00000000e+00  1.78919804e+02\n",
      "  -1.24423453e+03  0.00000000e+00  3.80065960e+10  5.49970989e+09\n",
      "   0.00000000e+00 -1.45438833e+04  1.01140295e+05  0.00000000e+00]\n",
      " [ 5.50509621e+06 -7.21338441e+07  0.00000000e+00  1.90751586e+02\n",
      "  -1.24244251e+03  0.00000000e+00  3.79525063e+10  5.86355554e+09\n",
      "   0.00000000e+00 -1.55056553e+04  1.00994627e+05  0.00000000e+00]\n",
      " [ 6.21307144e+06 -7.66032397e+07  0.00000000e+00  2.02564793e+02\n",
      "  -1.24053598e+03  0.00000000e+00  3.78949570e+10  6.22686003e+09\n",
      "   0.00000000e+00 -1.64659173e+04  1.00839650e+05  0.00000000e+00]\n",
      " [ 6.96353905e+06 -8.10655660e+07  0.00000000e+00  2.14358276e+02\n",
      "  -1.23851513e+03  0.00000000e+00  3.78339537e+10  6.58958988e+09\n",
      "   0.00000000e+00 -1.74245761e+04  1.00675381e+05  0.00000000e+00]\n",
      " [ 7.75642599e+06 -8.55204117e+07  0.00000000e+00  2.26130892e+02\n",
      "  -1.23638019e+03  0.00000000e+00  3.77695021e+10  6.95171165e+09\n",
      "   0.00000000e+00 -1.83815387e+04  1.00501838e+05  0.00000000e+00]\n",
      " [ 8.59165507e+06 -8.99673667e+07  0.00000000e+00  2.37881498e+02\n",
      "  -1.23413138e+03  0.00000000e+00  3.77016087e+10  7.31319200e+09\n",
      "   0.00000000e+00 -1.93367122e+04  1.00319039e+05  0.00000000e+00]\n",
      " [ 9.46914500e+06 -9.44060213e+07  0.00000000e+00  2.49608956e+02\n",
      "  -1.23176895e+03  0.00000000e+00  3.76302801e+10  7.67399764e+09\n",
      "   0.00000000e+00 -2.02900039e+04  1.00127003e+05  0.00000000e+00]\n",
      " [ 1.03888104e+07 -9.88359670e+07  0.00000000e+00  2.61312129e+02\n",
      "  -1.22929315e+03  0.00000000e+00  3.75555231e+10  8.03409537e+09\n",
      "   0.00000000e+00 -2.12413217e+04  9.99257524e+04  0.00000000e+00]\n",
      " [ 1.13505618e+07 -1.03256796e+08  0.00000000e+00  2.72989884e+02\n",
      "  -1.22670424e+03  0.00000000e+00  3.74773450e+10  8.39345203e+09\n",
      "   0.00000000e+00 -2.21905732e+04  9.97153075e+04  0.00000000e+00]\n",
      " [ 1.23543057e+07 -1.07668102e+08  0.00000000e+00  2.84641091e+02\n",
      "  -1.22400251e+03  0.00000000e+00  3.73957535e+10  8.75203457e+09\n",
      "   0.00000000e+00 -2.31376668e+04  9.94956913e+04  0.00000000e+00]]\n"
     ]
    }
   ],
   "source": [
    "print(simulation.history)"
   ]
  },
  {
   "cell_type": "code",
   "execution_count": 78,
   "id": "38652982",
   "metadata": {},
   "outputs": [
    {
     "data": {
      "image/png": "[encoded data removed]",
      "text/plain": [
       "<Figure size 432x288 with 1 Axes>"
      ]
     },
     "metadata": {
      "needs_background": "light"
     },
     "output_type": "display_data"
    }
   ],
   "source": [
    "simulation.plot()"
   ]
  },
  {
   "cell_type": "code",
   "execution_count": null,
   "id": "e38649e2",
   "metadata": {},
   "outputs": [],
   "source": []
  }
 ],
 "metadata": {
  "kernelspec": {
   "display_name": "Python 3 (ipykernel)",
   "language": "python",
   "name": "python3"
  },
  "language_info": {
   "codemirror_mode": {
    "name": "ipython",
    "version": 3
   },
   "file_extension": ".py",
   "mimetype": "text/x-python",
   "name": "python",
   "nbconvert_exporter": "python",
   "pygments_lexer": "ipython3",
   "version": "3.9.7"
  }
 },
 "nbformat": 4,
 "nbformat_minor": 5
}
